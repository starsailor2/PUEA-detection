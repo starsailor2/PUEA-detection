{
 "cells": [
  {
   "cell_type": "code",
   "execution_count": 1,
   "metadata": {},
   "outputs": [
    {
     "name": "stdout",
     "output_type": "stream",
     "text": [
      "Dataset generated and saved as 'puea_attack_dataset_12PUE20_SU.csv'.\n",
      "Dataset generated and saved as 'puea_attack_dataset_30PUE50_SU.csv'.\n",
      "Dataset generated and saved as 'puea_attack_dataset_60PUE100_SU.csv'.\n",
      "Dataset generated and saved as 'puea_attack_dataset_100PUE200_SU.csv'.\n",
      "Dataset generated and saved as 'puea_attack_dataset_210PUE350_SU.csv'.\n"
     ]
    }
   ],
   "source": [
    "import pandas as pd\n",
    "import numpy as np\n",
    "\n",
    "# Function to generate dataset\n",
    "def generate_dataset(num_pue, num_su):\n",
    "    data = []\n",
    "\n",
    "    # Generate PUE data\n",
    "    for i in range(1, num_pue + 1):\n",
    "        power_transmit = np.random.randint(15, 25)  # Random power transmit between 15 dB and 25 dB\n",
    "        distance = np.random.randint(100, 300)  # Random distance between 100m and 300m\n",
    "        pass_loss_exponent = np.random.uniform(2.0, 4.0)  # Random pass loss exponent\n",
    "        shadowing_effect = np.random.randint(0, 10)  # Random shadowing effect\n",
    "        power_received = power_transmit - (pass_loss_exponent * np.log10(distance)) - shadowing_effect  # Calculate power received\n",
    "        data.append([i, 'PUE', power_transmit, distance, pass_loss_exponent, shadowing_effect, power_received, 'PUE'])\n",
    "\n",
    "    # Generate SU data\n",
    "    for j in range(1, num_su + 1):\n",
    "        power_transmit = np.random.randint(10, 20)  # Random power transmit between 10 dB and 20 dB\n",
    "        distance = np.random.randint(50, 150)  # Random distance between 50m and 150m\n",
    "        pass_loss_exponent = np.random.uniform(2.0, 4.0)  # Random pass loss exponent\n",
    "        shadowing_effect = np.random.randint(0, 10)  # Random shadowing effect\n",
    "        power_received = power_transmit - (pass_loss_exponent * np.log10(distance)) - shadowing_effect  # Calculate power received\n",
    "        data.append([num_pue + j, 'SU', power_transmit, distance, pass_loss_exponent, shadowing_effect, power_received, 'SU'])\n",
    "\n",
    "    return data\n",
    "\n",
    "# Create datasets\n",
    "dataset_sizes = [(12, 20), (30, 50), (60, 100), (100, 200), (210, 350)]\n",
    "for num_pue, num_su in dataset_sizes:\n",
    "    # Generate dataset\n",
    "    dataset = generate_dataset(num_pue, num_su)\n",
    "\n",
    "    # Create DataFrame\n",
    "    df = pd.DataFrame(dataset, columns=['Sl No', 'User Type', 'Power Transmit (dB)', 'Distance (m)', 'Pass Loss Exponent', 'Shadowing Effect', 'Power Received (dB)', 'Label'])\n",
    "\n",
    "    # Save to CSV with a descriptive name\n",
    "    filename = f'puea_attack_dataset_{num_pue}PUE{num_su}_SU.csv'\n",
    "    df.to_csv(filename, index=False)\n",
    "\n",
    "    print(f\"Dataset generated and saved as '{filename}'.\")"
   ]
  }
 ],
 "metadata": {
  "kernelspec": {
   "display_name": "Python 3",
   "language": "python",
   "name": "python3"
  },
  "language_info": {
   "codemirror_mode": {
    "name": "ipython",
    "version": 3
   },
   "file_extension": ".py",
   "mimetype": "text/x-python",
   "name": "python",
   "nbconvert_exporter": "python",
   "pygments_lexer": "ipython3",
   "version": "3.12.1"
  }
 },
 "nbformat": 4,
 "nbformat_minor": 2
}
